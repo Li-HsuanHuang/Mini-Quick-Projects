{
 "cells": [
  {
   "cell_type": "markdown",
   "metadata": {},
   "source": [
    "# Visualizing Baseball At-Bat Pitching Sequences \n",
    "## Clayton Kershaw Against Detroit Tigers\n",
    "\n",
    "Objective: See Kershaw's pitching sequences against all Tigers' batters on June 20, 2011.\n",
    "\n",
    "**Questions**: \n",
    "1. What is the dominate pitch type thrown by Kershaw?\n",
    "2. Are the batters mostly batted right or left?\n",
    "\n",
    "**Context**: \n",
    "\n",
    "Clayton Kershaw of the Los Angeles Dodgers is considered one of the best pitchers in the modern baseball era. On June 20, 2011 against the Detroit Tigers, he pitched a shutout game, struck out 11 batters.\n",
    "\n",
    "In this mini project, we seek to visualize Kershaw's pitches for all at bats and see if we can see gain some insights from the plots.\n",
    "\n",
    "The inspiration originates from a Udemy course: *Pitch Location Charts with PITCHf/x and ggplot*. In that course, the instructor looked at Max Scherzer's no-hitter performance against the Pittsburgh Pirates on June 20, 2015.\n",
    "\n",
    "PITCHf/x data provides valuable information such as resulting ball location in catcher's frame. \n",
    "\n",
    "We will accomplish the visualization tasks using *R* and libraries such as pitchRx, ggplot2, dplyr, and adopt or modified the code used in that course. "
   ]
  },
  {
   "cell_type": "code",
   "execution_count": 1,
   "metadata": {},
   "outputs": [
    {
     "name": "stderr",
     "output_type": "stream",
     "text": [
      "Warning message:\n",
      "\"package 'pitchRx' was built under R version 3.5.2\"Loading required package: ggplot2\n",
      "\n",
      "Attaching package: 'dplyr'\n",
      "\n",
      "The following objects are masked from 'package:stats':\n",
      "\n",
      "    filter, lag\n",
      "\n",
      "The following objects are masked from 'package:base':\n",
      "\n",
      "    intersect, setdiff, setequal, union\n",
      "\n"
     ]
    }
   ],
   "source": [
    "# Load major libary \n",
    "library(pitchRx)\n",
    "library(dplyr)\n",
    "library(ggplot2)"
   ]
  },
  {
   "cell_type": "code",
   "execution_count": 2,
   "metadata": {},
   "outputs": [
    {
     "name": "stderr",
     "output_type": "stream",
     "text": [
      "If file names don't print right away, please be patient.\n"
     ]
    },
    {
     "name": "stdout",
     "output_type": "stream",
     "text": [
      "http://gd2.mlb.com/components/game/mlb/year_2011/month_06/day_20/gid_2011_06_20_detmlb_lanmlb_1/inning/inning_all.xml \n"
     ]
    }
   ],
   "source": [
    "# Retrieve and load game data\n",
    "bdat <- scrape(game.ids=\"gid_2011_06_20_detmlb_lanmlb_1\")\n",
    "atbat <- bdat$atbat\n",
    "pitch <- bdat$pitch"
   ]
  },
  {
   "cell_type": "code",
   "execution_count": 3,
   "metadata": {},
   "outputs": [
    {
     "name": "stdout",
     "output_type": "stream",
     "text": [
      "[1] 112  12\n"
     ]
    }
   ],
   "source": [
    "# Inner join relevant features to look at pitches\n",
    "so <- inner_join(atbat,pitch, by=\"num\")%>%\n",
    "  filter(inning_side.x =='top')%>%\n",
    "  select(num,start_tfs,stand,event,inning.x,batter_name,des,tfs,start_speed,px,pz,pitch_type)\n",
    "\n",
    "print(dim(so))"
   ]
  },
  {
   "cell_type": "code",
   "execution_count": 4,
   "metadata": {},
   "outputs": [],
   "source": [
    "# Define strike zone that will be incorporated using ggplot geom_path\n",
    "x <-c(-.95,.95,.95,-.95,-.95)\n",
    "z <-c(1.6,1.6,3.5,3.5,1.6)\n",
    "sz <- data.frame(x,z)"
   ]
  },
  {
   "cell_type": "code",
   "execution_count": 5,
   "metadata": {},
   "outputs": [
    {
     "data": {
      "text/html": [
       "<ol class=list-inline>\n",
       "\t<li>'FF'</li>\n",
       "\t<li>'CH'</li>\n",
       "\t<li>'SL'</li>\n",
       "\t<li>'CU'</li>\n",
       "</ol>\n"
      ],
      "text/latex": [
       "\\begin{enumerate*}\n",
       "\\item 'FF'\n",
       "\\item 'CH'\n",
       "\\item 'SL'\n",
       "\\item 'CU'\n",
       "\\end{enumerate*}\n"
      ],
      "text/markdown": [
       "1. 'FF'\n",
       "2. 'CH'\n",
       "3. 'SL'\n",
       "4. 'CU'\n",
       "\n",
       "\n"
      ],
      "text/plain": [
       "[1] \"FF\" \"CH\" \"SL\" \"CU\""
      ]
     },
     "metadata": {},
     "output_type": "display_data"
    }
   ],
   "source": [
    "# Types of pitches Kershaw threw\n",
    "unique(so$pitch_type)"
   ]
  },
  {
   "cell_type": "code",
   "execution_count": 5,
   "metadata": {},
   "outputs": [],
   "source": [
    "# Spell out the pitch type\n",
    "temp <- so$pitch_type\n",
    "temp[which(temp=='FF')]<-'fastball'\n",
    "temp[which(temp=='CU')]<-'curveball'\n",
    "temp[which(temp=='CH')]<-'changeup'\n",
    "temp[which(temp=='SL')]<-'slider'\n",
    "so$pitch_description <- temp"
   ]
  },
  {
   "cell_type": "code",
   "execution_count": 6,
   "metadata": {},
   "outputs": [],
   "source": [
    "# Setting the leves so the pitch label colors will be consistent from figure to figure\n",
    "so$pitch_description<-factor(so$pitch_description,levels=c(\"fastball\",\"changeup\",\"slider\",\"curveball\"))\n"
   ]
  },
  {
   "cell_type": "code",
   "execution_count": 7,
   "metadata": {},
   "outputs": [],
   "source": [
    "# To make sure we label batter's stand (right or left) properly\n",
    "stand_xcoord <-so$stand\n",
    "stand_xcoord[which(stand_xcoord =='R')] <- -1.5\n",
    "stand_xcoord[which(stand_xcoord =='L')] <- 1.5\n",
    "stand_xcoord <- as.numeric(stand_xcoord)\n",
    "so$stand_xcoord <- stand_xcoord\n",
    "so$stand<-factor(so$stand,levels=c('R','L'))\n",
    "\n",
    "# To make sure we know how the sequence of pitches against a batter ends\n",
    "des <- so$des\n",
    "indices<- which(des=='In play, out(s)')\n",
    "event <- so$event\n",
    "des[indices] <- event[indices]\n",
    "so$des2 <- des\n",
    "\n",
    "# To arrange the data so the pitches are sorted based time.\n",
    "so<- so%>%\n",
    "  arrange(tfs)\n",
    "\n",
    "# To create pitch counts for each at bat.\n",
    "temp <- so %>% group_by(num) %>%\n",
    "  summarize(num_of_pitches = n())\n",
    "\n",
    "so$pitch_enum <- unlist(lapply(temp$num_of_pitches,seq))\n"
   ]
  },
  {
   "cell_type": "code",
   "execution_count": 9,
   "metadata": {},
   "outputs": [
    {
     "name": "stderr",
     "output_type": "stream",
     "text": [
      "Warning message:\n",
      "\"Removed 4 rows containing missing values (geom_point).\""
     ]
    },
    {
     "data": {
      "image/png": "[encoded data removed]",
      "text/plain": [
       "plot without title"
      ]
     },
     "metadata": {},
     "output_type": "display_data"
    }
   ],
   "source": [
    "# Plot every batter Kershaw faced using ggplot2's facet\n",
    "colors <- c('red','blue','green','yellow')\n",
    "names(colors) <-c('fastball','changeup','slider','curveball')\n",
    "pitches = unique(so$pitch_description)\n",
    "zmax <- (max(so$start_speed)-75.4)/22\n",
    "zmin <- (min(so$start_speed)-75.4)/22\n",
    "p = ggplot()+\n",
    "geom_path(data=sz,aes(x=x,y=z))+\n",
    "coord_equal()+\n",
    "xlab('feet from home plate')+\n",
    "ylab('feet above the ground')+\n",
    "geom_point(data=so,aes(x=px,y=pz,size=start_speed,color=pitch_description))+\n",
    "scale_size(range=c(3*zmin+2,3*zmax+2))+\n",
    "scale_color_manual(values=colors[pitches])+\n",
    "facet_wrap(~num)+ \n",
    "geom_text(data=so,aes(label=stand,x=stand_xcoord),y=2.5,size=2)+\n",
    "geom_text(data=so,aes(label=batter_name),x=0,y=.5,size=2.5)+\n",
    "geom_text(data=so,aes(label=inning.x),x=0,y=4.5,size=3)+\n",
    "xlim(-2,2)+\n",
    "ylim(0,5)\n",
    "print(p)"
   ]
  },
  {
   "cell_type": "code",
   "execution_count": 10,
   "metadata": {},
   "outputs": [
    {
     "data": {},
     "metadata": {},
     "output_type": "display_data"
    },
    {
     "data": {
      "image/png": "[encoded data removed]",
      "text/plain": [
       "plot without title"
      ]
     },
     "metadata": {},
     "output_type": "display_data"
    }
   ],
   "source": [
    "# We can also plot just at bat against a batter\n",
    "\n",
    "batter = 'Miguel Cabrera'\n",
    "inning = 2\n",
    "\n",
    "ab <- so %>% filter(batter_name == batter, inning.x == inning)\n",
    "ggplot()+\n",
    "geom_path(data=sz,aes(x=x,y=z))+\n",
    "coord_equal()+\n",
    "xlab('feet from home plate')+\n",
    "ylab('feet above the ground')+\n",
    "geom_point(data=ab,aes(x=px,y=pz,size=start_speed,color=pitch_description))+\n",
    "scale_size(range=c(3*zmin+2,3*zmax+2))+\n",
    "scale_color_manual(values=colors[pitches])+\n",
    "facet_wrap(~num)+ \n",
    "geom_text(data=ab,aes(label=stand,x=stand_xcoord),y=2.5,size=4)+\n",
    "geom_text(data=ab,aes(label=batter_name),x=0,y=.5,size=2.5)+\n",
    "geom_text(data=ab,aes(label=inning.x),x=0,y=4.5,size=3)+\n",
    "xlim(-2,2)+\n",
    "ylim(0,5)+\n",
    "ggtitle(paste(\"Inning \",inning, \": \",batter,sep=\"\"))+\n",
    "geom_text(data=ab,aes(label=des2,x=px,y=pz),vjust=1.5)+\n",
    "geom_text(data=ab,aes(label=pitch_enum,x=px,y=pz),vjust=3)"
   ]
  },
  {
   "cell_type": "markdown",
   "metadata": {},
   "source": [
    "## Observations\n",
    "\n",
    "At the time of this game, Kershaw was *23*, a young player considered in the major league. The plots show that \n",
    "\n",
    "* Majority of the pitches are fastballs, and \n",
    "* **Only** three curveballs were thrown during the game.\n",
    "* **ALL** batters Kershaw faced in the game batted right handed. Perhaps as a left-hand pitcher, Kershaw had advantage over batters batted right handed. \n",
    "\n",
    "![](kershaw.jpg) \n"
   ]
  },
  {
   "cell_type": "markdown",
   "metadata": {},
   "source": [
    "Instead of having all the at-bats plots together, we can generate them one by one and piece them together as a slideshow. The code below generates plot per at bat."
   ]
  },
  {
   "cell_type": "code",
   "execution_count": 18,
   "metadata": {},
   "outputs": [
    {
     "name": "stderr",
     "output_type": "stream",
     "text": [
      "Saving 6.67 x 6.67 in image\n",
      "Saving 6.67 x 6.67 in image\n",
      "Saving 6.67 x 6.67 in image\n",
      "Saving 6.67 x 6.67 in image\n",
      "Saving 6.67 x 6.67 in image\n",
      "Saving 6.67 x 6.67 in image\n",
      "Saving 6.67 x 6.67 in image\n",
      "Saving 6.67 x 6.67 in image\n",
      "Saving 6.67 x 6.67 in image\n",
      "Warning message:\n",
      "\"Removed 1 rows containing missing values (geom_point).\"Warning message:\n",
      "\"Removed 1 rows containing missing values (geom_text).\"Warning message:\n",
      "\"Removed 1 rows containing missing values (geom_text).\"Saving 6.67 x 6.67 in image\n",
      "Saving 6.67 x 6.67 in image\n",
      "Saving 6.67 x 6.67 in image\n",
      "Saving 6.67 x 6.67 in image\n",
      "Saving 6.67 x 6.67 in image\n",
      "Saving 6.67 x 6.67 in image\n",
      "Warning message:\n",
      "\"Removed 1 rows containing missing values (geom_point).\"Warning message:\n",
      "\"Removed 1 rows containing missing values (geom_text).\"Warning message:\n",
      "\"Removed 1 rows containing missing values (geom_text).\"Saving 6.67 x 6.67 in image\n",
      "Warning message:\n",
      "\"Removed 1 rows containing missing values (geom_point).\"Warning message:\n",
      "\"Removed 1 rows containing missing values (geom_text).\"Warning message:\n",
      "\"Removed 1 rows containing missing values (geom_text).\"Saving 6.67 x 6.67 in image\n",
      "Saving 6.67 x 6.67 in image\n",
      "Saving 6.67 x 6.67 in image\n",
      "Saving 6.67 x 6.67 in image\n",
      "Saving 6.67 x 6.67 in image\n",
      "Saving 6.67 x 6.67 in image\n",
      "Saving 6.67 x 6.67 in image\n",
      "Saving 6.67 x 6.67 in image\n",
      "Saving 6.67 x 6.67 in image\n",
      "Saving 6.67 x 6.67 in image\n",
      "Saving 6.67 x 6.67 in image\n",
      "Saving 6.67 x 6.67 in image\n",
      "Saving 6.67 x 6.67 in image\n",
      "Saving 6.67 x 6.67 in image\n",
      "Warning message:\n",
      "\"Removed 1 rows containing missing values (geom_point).\"Warning message:\n",
      "\"Removed 1 rows containing missing values (geom_text).\"Warning message:\n",
      "\"Removed 1 rows containing missing values (geom_text).\""
     ]
    }
   ],
   "source": [
    "colors <- c('red','blue','green','yellow')\n",
    "names(colors) <-c('fastball','changeup','slider','curveball') # To make sure pitch type colors are the same for all figures\n",
    "for (i in unique(so$num)){\n",
    "    ab <- so%>% filter(num==i)\n",
    "    batter = ab$batter_name[1]\n",
    "    inning = ab$inning.x[1]\n",
    "    pitches = unique(ab$pitch_description)\n",
    "    zmax <- (max(ab$start_speed)-75.4)/22\n",
    "    zmin <- (min(ab$start_speed)-75.4)/22\n",
    "    plot <- ggplot()+\n",
    "      geom_path(data=sz,aes(x=x,y=z))+\n",
    "      coord_equal()+\n",
    "      xlab('feet from home plate')+\n",
    "      ylab('feet above the ground')+\n",
    "      geom_point(data=ab,aes(x=px,y=pz,size=start_speed,color=pitch_description))+\n",
    "      scale_size(range=c(3*zmin+2,3*zmax+2))+\n",
    "      scale_color_manual(values=colors[pitches])+\n",
    "      #facet_wrap(~num)+ \n",
    "      geom_text(data=ab,aes(label=stand,x=stand_xcoord),y=2.5,size=5)+\n",
    "      #geom_text(data=ab,aes(label=batter_name),x=0,y=.5,size=4)+\n",
    "      #geom_text(data=ab,aes(label=inning.x),x=0,y=4.5,size=4)+\n",
    "      xlim(-2,2)+\n",
    "      ylim(0,5)+\n",
    "      ggtitle(paste(\"Inning \",inning, \": \",batter,sep=\"\"))+\n",
    "      geom_text(data=ab,aes(label=des2,x=px,y=pz),vjust=1.5)+\n",
    "      geom_text(data=ab,aes(label=pitch_enum,x=px,y=pz),vjust=3)\n",
    "    \n",
    "    ggsave(paste('atbat',i,'.png',sep=''), plot)\n",
    "\n",
    "}"
   ]
  }
 ],
 "metadata": {
  "kernelspec": {
   "display_name": "R",
   "language": "R",
   "name": "ir"
  },
  "language_info": {
   "codemirror_mode": "r",
   "file_extension": ".r",
   "mimetype": "text/x-r-source",
   "name": "R",
   "pygments_lexer": "r",
   "version": "3.5.1"
  }
 },
 "nbformat": 4,
 "nbformat_minor": 2
}
