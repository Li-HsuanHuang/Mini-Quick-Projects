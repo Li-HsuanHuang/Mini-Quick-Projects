{
 "cells": [
  {
   "cell_type": "markdown",
   "metadata": {},
   "source": [
    "# Reproducing FiveThirtyEight Bar Plot Result on Flying Etiquette\n",
    "\n",
    "I first know about the flying-etiquette dataset from DataCamp, where I learned how to apply the R package, **tidyverse**, on categorical data. In this case, the data is a survey of 1,040 fliers whom where asked if certain flying behaviors are rude. Interestingly, there is no column with numerical values.  The lines of code are learned from the DataCamp course, Categorical Data in the **tidyverse**, which was taught by Emily Robinson. See <https://learn.datacamp.com/courses/categorical-data-in-the-tidyverse>. \n",
    "\n",
    "The article titled <em>41 Percent Of Fliers Think You’re Rude If You Recline Your Seat</em> can be found here <https://fivethirtyeight.com/features/airplane-etiquette-recline-seat/>, and the data can be found <https://github.com/fivethirtyeight/data/tree/master/flying-etiquette-survey>.\n",
    "\n",
    "The main goal from this DataCamp course was to use **tidyverse**, **forcats**, and **ggplot2** packages to reproduce the bar chart appeared in the article. The bar chart produced from the course, however, differs from the *FiveThirtyEight* article in that the question marks were not removed. To ensure the same look of the bar chart, I added an additional line of code to remove the question marks.\n",
    "\n",
    "\n",
    "The code below first converts variables in characters to factors and identifies columns (questions) that contains the word *rude*. Then, words and symbols unrelated to rude behaviors are removed. Finally, it plots the bar chart that one sees in the *FiveThirtyEight* article.\n",
    "\n",
    "Note that using read_csv function from **tidyverse** will give us clean read of the data. I used the default read.csv on the flying data, which results each variable/column/question whose words are connected by periods. For example, the phrase *Is it rude* would be *Is.it.rude* using read.csv. When this happened, I tried remove the periods with str_remove and str_replace functions from **tidyverse** but did not succeed. Consequently, I went back to read_csv function. "
   ]
  },
  {
   "cell_type": "code",
   "execution_count": 15,
   "metadata": {},
   "outputs": [],
   "source": [
    "library(ggplot2)\n",
    "library(dplyr)\n",
    "library(tidyverse)\n",
    "library(forcats)\n",
    "library(ggthemes)\n",
    "options(warn = -1)"
   ]
  },
  {
   "cell_type": "code",
   "execution_count": 17,
   "metadata": {},
   "outputs": [
    {
     "name": "stderr",
     "output_type": "stream",
     "text": [
      "Parsed with column specification:\n",
      "cols(\n",
      "  .default = col_character(),\n",
      "  RespondentID = col_double()\n",
      ")\n",
      "See spec(...) for full column specifications.\n"
     ]
    }
   ],
   "source": [
    "# Read flying-etiquette data\n",
    "flying = read_csv('flying-etiquette.csv')\n",
    "options(warn = -1)"
   ]
  },
  {
   "cell_type": "code",
   "execution_count": 19,
   "metadata": {},
   "outputs": [
    {
     "name": "stderr",
     "output_type": "stream",
     "text": [
      "`summarise()` ungrouping output (override with `.groups` argument)\n"
     ]
    },
    {
     "data": {
      "text/html": [
       "<table>\n",
       "<thead><tr><th scope=col>response_var</th><th scope=col>perc_rude</th></tr></thead>\n",
       "<tbody>\n",
       "\t<tr><td>ask someone to switch seats with you in order to be closer to family </td><td>0.1705882                                                            </td></tr>\n",
       "\t<tr><td>ask someone to switch seats with you in order to be closer to friends</td><td>0.2576471                                                            </td></tr>\n",
       "\t<tr><td>bring a baby                                                         </td><td>0.3027091                                                            </td></tr>\n",
       "\t<tr><td>knowingly bring unruly children                                      </td><td>0.8268551                                                            </td></tr>\n",
       "\t<tr><td>move to an unsold seat                                               </td><td>0.1929825                                                            </td></tr>\n",
       "\t<tr><td>recline your seat                                                    </td><td>0.4121780                                                            </td></tr>\n",
       "\t<tr><td>say more than a few words tothe stranger sitting next to you         </td><td>0.2105263                                                            </td></tr>\n",
       "\t<tr><td>wake a passenger up if you are trying to go to the bathroom          </td><td>0.3705882                                                            </td></tr>\n",
       "\t<tr><td>wake a passenger up if you are trying to walk around                 </td><td>0.7341176                                                            </td></tr>\n",
       "</tbody>\n",
       "</table>\n"
      ],
      "text/latex": [
       "\\begin{tabular}{r|ll}\n",
       " response\\_var & perc\\_rude\\\\\n",
       "\\hline\n",
       "\t ask someone to switch seats with you in order to be closer to family  & 0.1705882                                                            \\\\\n",
       "\t ask someone to switch seats with you in order to be closer to friends & 0.2576471                                                            \\\\\n",
       "\t bring a baby                                                          & 0.3027091                                                            \\\\\n",
       "\t knowingly bring unruly children                                       & 0.8268551                                                            \\\\\n",
       "\t move to an unsold seat                                                & 0.1929825                                                            \\\\\n",
       "\t recline your seat                                                     & 0.4121780                                                            \\\\\n",
       "\t say more than a few words tothe stranger sitting next to you          & 0.2105263                                                            \\\\\n",
       "\t wake a passenger up if you are trying to go to the bathroom           & 0.3705882                                                            \\\\\n",
       "\t wake a passenger up if you are trying to walk around                  & 0.7341176                                                            \\\\\n",
       "\\end{tabular}\n"
      ],
      "text/markdown": [
       "\n",
       "response_var | perc_rude | \n",
       "|---|---|---|---|---|---|---|---|---|\n",
       "| ask someone to switch seats with you in order to be closer to family  | 0.1705882                                                             | \n",
       "| ask someone to switch seats with you in order to be closer to friends | 0.2576471                                                             | \n",
       "| bring a baby                                                          | 0.3027091                                                             | \n",
       "| knowingly bring unruly children                                       | 0.8268551                                                             | \n",
       "| move to an unsold seat                                                | 0.1929825                                                             | \n",
       "| recline your seat                                                     | 0.4121780                                                             | \n",
       "| say more than a few words tothe stranger sitting next to you          | 0.2105263                                                             | \n",
       "| wake a passenger up if you are trying to go to the bathroom           | 0.3705882                                                             | \n",
       "| wake a passenger up if you are trying to walk around                  | 0.7341176                                                             | \n",
       "\n",
       "\n"
      ],
      "text/plain": [
       "  response_var                                                         \n",
       "1 ask someone to switch seats with you in order to be closer to family \n",
       "2 ask someone to switch seats with you in order to be closer to friends\n",
       "3 bring a baby                                                         \n",
       "4 knowingly bring unruly children                                      \n",
       "5 move to an unsold seat                                               \n",
       "6 recline your seat                                                    \n",
       "7 say more than a few words tothe stranger sitting next to you         \n",
       "8 wake a passenger up if you are trying to go to the bathroom          \n",
       "9 wake a passenger up if you are trying to walk around                 \n",
       "  perc_rude\n",
       "1 0.1705882\n",
       "2 0.2576471\n",
       "3 0.3027091\n",
       "4 0.8268551\n",
       "5 0.1929825\n",
       "6 0.4121780\n",
       "7 0.2105263\n",
       "8 0.3705882\n",
       "9 0.7341176"
      ]
     },
     "metadata": {},
     "output_type": "display_data"
    }
   ],
   "source": [
    "# Convert character-type variables to factor-type variables.\n",
    "gathered_data <- flying %>%\n",
    "mutate_if(is.character, as.factor) %>%\n",
    "# remove observations where fliers said they don't fly often\n",
    "filter(`How often do you travel by plane?` != \"Never\") %>%\n",
    "# Select columns containing \"rude\"\n",
    "select(contains('rude')) %>%\n",
    "# Change format from wide to long\n",
    "gather(response_var,value)\n",
    "\n",
    "\n",
    "rude_behaviors <- gathered_data %>%\n",
    "mutate(response_var = str_replace(response_var, '.*rude to ', '')) %>%\n",
    "mutate(response_var = str_replace(response_var, 'on a plane', '')) %>%\n",
    "mutate(response_var = str_replace(response_var, '\\\\?','')) %>%\n",
    "# Remove rows that are NA in the value column\n",
    "filter(!is.na(value)) %>%\n",
    "mutate(rude = if_else(value %in% c(\"No, not rude at all\", \"No, not at all rude\"), 0, 1)) %>%\n",
    "# Group by response_var\n",
    "group_by(response_var) %>%\n",
    "# Create perc_rude, the percent considering each behavior rude\n",
    "summarize(perc_rude = mean(rude))\n",
    "  \n",
    "suppressMessages(rude_behaviors)\n",
    "\n"
   ]
  },
  {
   "cell_type": "code",
   "execution_count": 24,
   "metadata": {},
   "outputs": [
    {
     "data": {},
     "metadata": {},
     "output_type": "display_data"
    },
    {
     "data": {
      "image/png": "[encoded data removed]",
      "text/plain": [
       "plot without title"
      ]
     },
     "metadata": {},
     "output_type": "display_data"
    }
   ],
   "source": [
    "options(repr.plot.width = 15, repr.plot.height = 5)\n",
    "\n",
    "\n",
    "initial_plot <- rude_behaviors %>%\n",
    "# reorder response_var by perc_rude\n",
    "mutate(response_var = fct_reorder(response_var, perc_rude)) %>%\n",
    "# make a bar plot of perc_rude by response_var\n",
    "ggplot(aes(x = response_var,y=perc_rude)) + \n",
    "geom_col()\n",
    "\n",
    "#initial_plot\n",
    "\n",
    "titled_plot <- initial_plot + \n",
    "# Add the title, subtitle, and caption\n",
    "labs(title = \"Hell Is Other People In A Pressurized Metal Tube\",\n",
    "subtitle = \"Percentage of 874 air-passenger respondents who said action is very or somewhat rude\",\n",
    "caption = \"Source: SurveyMonkey Audience\", \n",
    "# Remove the x- and y-axis labels\n",
    "x = \"\", \n",
    "y = \"\") \n",
    "\n",
    "#titled_plot\n",
    "\n",
    "flipped_plot <- titled_plot + \n",
    "# Flip the axes\n",
    "coord_flip() + \n",
    "# Remove the x-axis ticks and labels\n",
    "theme(axis.text.x = element_blank(), \n",
    "axis.ticks.x = element_blank())\n",
    "#flipped_plot\n",
    "\n",
    "flipped_plot + \n",
    "# Apply percent() to perc_rude to label above the bar with the perc value\n",
    "geom_text(aes(label = scales::percent(perc_rude), \n",
    "y = perc_rude + .03), \n",
    "position = position_dodge(0.9),\n",
    "vjust = 1)+\n",
    "theme_fivethirtyeight()\n"
   ]
  },
  {
   "cell_type": "code",
   "execution_count": null,
   "metadata": {},
   "outputs": [],
   "source": []
  }
 ],
 "metadata": {
  "kernelspec": {
   "display_name": "R",
   "language": "R",
   "name": "ir"
  },
  "language_info": {
   "codemirror_mode": "r",
   "file_extension": ".r",
   "mimetype": "text/x-r-source",
   "name": "R",
   "pygments_lexer": "r",
   "version": "3.5.1"
  }
 },
 "nbformat": 4,
 "nbformat_minor": 4
}
